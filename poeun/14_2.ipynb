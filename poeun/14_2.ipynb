{
 "cells": [
  {
   "cell_type": "code",
   "execution_count": 2,
   "metadata": {},
   "outputs": [],
   "source": [
    "import tensorflow as tf\n",
    "from tensorflow.keras.layers import Layer, Conv2D, BatchNormalization\n",
    "\n",
    "class ResidualUnit(Layer):\n",
    "    def __init__(self, filters, stride=1, activation='relu', **kwargs):\n",
    "        \n",
    "    "
   ]
  }
 ],
 "metadata": {
  "interpreter": {
   "hash": "bdf17c19c30a28db6f7b0ef0d38b34c86e2719f88d8c0ab18d010b27c1bfc4a0"
  },
  "kernelspec": {
   "display_name": "Python 3.8.13 ('mecab')",
   "language": "python",
   "name": "python3"
  },
  "language_info": {
   "codemirror_mode": {
    "name": "ipython",
    "version": 3
   },
   "file_extension": ".py",
   "mimetype": "text/x-python",
   "name": "python",
   "nbconvert_exporter": "python",
   "pygments_lexer": "ipython3",
   "version": "3.9.7"
  },
  "orig_nbformat": 4
 },
 "nbformat": 4,
 "nbformat_minor": 2
}
